{
  "nbformat": 4,
  "nbformat_minor": 0,
  "metadata": {
    "colab": {
      "provenance": []
    },
    "kernelspec": {
      "name": "python3",
      "display_name": "Python 3"
    },
    "language_info": {
      "name": "python"
    }
  },
  "cells": [
    {
      "cell_type": "markdown",
      "source": [
        "# 1- Data structures are specialized formats for organizing, managing, and storing data. They are crucial because:\n",
        "\n",
        "They optimize data manipulation.\n",
        "Enable efficient searching, insertion, and deletion.\n",
        "Provide frameworks for implementing algorithms.\n",
        "\n",
        "# 2- Mutable: Can be modified after creation.\n",
        "     Immutable: Cannot be modified after creation.\n",
        "\n",
        "# 3- Feature\tList\tTuple\n",
        "Mutability\t             Mutable\t           Immutable\n",
        "Syntax\t                  [ ]\t                 ( )\n",
        "Performance          \tSlower (dynamic)\t     Faster (static)\n",
        "Use Case\t     Frequently changing data\t    Fixed or constant data\n",
        "\n",
        "# 4- Dictionaries store data as key-value pairs using a hash table. Keys are hashed to determine an index, allowing constant-time access. Values are stored in a way linked to their keys.\n",
        "\n",
        "# 5- Sets automatically remove duplicate values.\n",
        "Offer faster membership checks (O(1) for sets vs. O(n) for lists).\n",
        "\n",
        "# 6- A string is an immutable sequence of characters.\n",
        "Unlike a list, a string cannot be modified in place\n",
        "\n",
        "# 7- Tuples are immutable, ensuring that their data remains unchanged. This makes them ideal for fixed collections or keys in dictionaries.\n",
        "\n",
        "# 8- A hash table is a data structure that maps keys to values using a hash function. In Python:\n",
        "\n",
        "Dictionaries are implemented as hash tables.\n",
        "Keys are hashed for quick lookup (O(1) average time complexity).\n",
        "\n",
        "# 9- Yes, lists can contain mixed data types\n",
        "\n",
        "# 10- Strings are immutable to:\n",
        "\n",
        "Enhance performance (memory reuse and caching).\n",
        "Ensure thread safety in multi-threaded programs.\n",
        "\n",
        "# 11- Faster lookups (O(1) vs. O(n) for lists).\n",
        "Clear key-value pair mapping, enabling intuitive data organization.\n",
        "\n",
        "# 12- You need to ensure data integrity (e.g., coordinates in 3D space (x, y, z)).\n",
        "As keys in a dictionary since tuples are hashable.\n",
        "\n",
        "# 13- Sets automatically remove duplicates\n",
        "\n",
        "# 14-\n",
        "Lists: Linear search (O(n)).\n",
        "Dictionaries: Checks keys using hashing (O(1)).\n",
        "\n",
        "# 15- No, tuples are immutable. You cannot modify their elements after creation. This ensures data integrity.\n",
        "\n",
        "# 16- A nested dictionary is a dictionary containing other dictionaries as values.\n",
        "Use case: Representing hierarchical data, e.g., employee details.\n",
        "\n",
        "# 17- Average-case time complexity: O(1) (constant time).\n",
        "Worst-case (rare due to hash collisions): O(n).\n",
        "\n",
        "# 18- Sequential data where indices are used.\n",
        "When ordering and duplicates matter.\n",
        "\n",
        "# 19- Dictionaries are unordered because they use hash tables. In older versions (< Python 3.7), insertion order wasn't preserved. While modern dictionaries preserve order, retrieval is always by key, not index.\n",
        "\n",
        "# 20- List: Indexed-based retrieval.\n",
        "      Dictionary: Key-based retrieval."
      ],
      "metadata": {
        "id": "zy_ZoqiazAXg"
      }
    },
    {
      "cell_type": "markdown",
      "source": [
        "**PRACTICAL QUESTIONS**"
      ],
      "metadata": {
        "id": "HoTZKpKO3ifc"
      }
    },
    {
      "cell_type": "code",
      "execution_count": null,
      "metadata": {
        "colab": {
          "base_uri": "https://localhost:8080/"
        },
        "id": "RAu6-WO1ywqq",
        "outputId": "a01201ea-cb80-4fa7-cb80-2173b7e5d59b"
      },
      "outputs": [
        {
          "output_type": "stream",
          "name": "stdout",
          "text": [
            "Rishabh\n"
          ]
        }
      ],
      "source": [
        "# 1-\n",
        "\n",
        "name = \"Rishabh\"\n",
        "print(name)\n"
      ]
    },
    {
      "cell_type": "code",
      "source": [
        "# 2-\n",
        "\n",
        "string = \"Hello World\"\n",
        "length = len(string)\n",
        "print(\"Length:\", length)\n"
      ],
      "metadata": {
        "colab": {
          "base_uri": "https://localhost:8080/"
        },
        "id": "8IarLu0_4acg",
        "outputId": "79e73299-4586-40c7-deff-6749c1289b86"
      },
      "execution_count": null,
      "outputs": [
        {
          "output_type": "stream",
          "name": "stdout",
          "text": [
            "Length: 11\n"
          ]
        }
      ]
    },
    {
      "cell_type": "code",
      "source": [
        "# 3-\n",
        "\n",
        "string = \"Python Programming\"\n",
        "sliced = string[:3]\n",
        "print(\"First 3 characters:\", sliced)\n"
      ],
      "metadata": {
        "colab": {
          "base_uri": "https://localhost:8080/"
        },
        "id": "PlmmULkq4f1b",
        "outputId": "608c98f0-93f2-418d-ed3b-dc0e0c9cf9a3"
      },
      "execution_count": null,
      "outputs": [
        {
          "output_type": "stream",
          "name": "stdout",
          "text": [
            "First 3 characters: Pyt\n"
          ]
        }
      ]
    },
    {
      "cell_type": "code",
      "source": [
        "# 4-\n",
        "\n",
        "string = \"hello\"\n",
        "uppercase_string = string.upper()\n",
        "print(\"Uppercase:\", uppercase_string)\n"
      ],
      "metadata": {
        "colab": {
          "base_uri": "https://localhost:8080/"
        },
        "id": "XxiZw1g14owA",
        "outputId": "3765b91f-840c-42b2-cae7-937ecd2e581f"
      },
      "execution_count": null,
      "outputs": [
        {
          "output_type": "stream",
          "name": "stdout",
          "text": [
            "Uppercase: HELLO\n"
          ]
        }
      ]
    },
    {
      "cell_type": "code",
      "source": [
        "# 5-\n",
        "\n",
        "string = \"I like apple\"\n",
        "new_string = string.replace(\"apple\", \"orange\")\n",
        "print(new_string)\n"
      ],
      "metadata": {
        "colab": {
          "base_uri": "https://localhost:8080/"
        },
        "id": "8t5efXoD4xEO",
        "outputId": "618384a8-201d-40dd-eb0f-5aef6d2e6e55"
      },
      "execution_count": null,
      "outputs": [
        {
          "output_type": "stream",
          "name": "stdout",
          "text": [
            "I like orange\n"
          ]
        }
      ]
    },
    {
      "cell_type": "code",
      "source": [
        "# 6-\n",
        "numbers = [1, 2, 3, 4, 5]\n",
        "print(numbers)\n"
      ],
      "metadata": {
        "colab": {
          "base_uri": "https://localhost:8080/"
        },
        "id": "GWMFps8r44Na",
        "outputId": "1d41f29e-eff7-43f9-f925-71505151bfd0"
      },
      "execution_count": null,
      "outputs": [
        {
          "output_type": "stream",
          "name": "stdout",
          "text": [
            "[1, 2, 3, 4, 5]\n"
          ]
        }
      ]
    },
    {
      "cell_type": "code",
      "source": [
        "# 7-\n",
        "\n",
        "numbers = [1, 2, 3, 4]\n",
        "numbers.append(10)\n",
        "print(numbers)\n"
      ],
      "metadata": {
        "colab": {
          "base_uri": "https://localhost:8080/"
        },
        "id": "aDUANsNU5Ae-",
        "outputId": "f7eb68ff-c332-4486-e059-cbe44cfcce23"
      },
      "execution_count": null,
      "outputs": [
        {
          "output_type": "stream",
          "name": "stdout",
          "text": [
            "[1, 2, 3, 4, 10]\n"
          ]
        }
      ]
    },
    {
      "cell_type": "code",
      "source": [
        "# 8-\n",
        "\n",
        "numbers = [1, 2, 3, 4, 5]\n",
        "numbers.remove(3)\n",
        "print(numbers)\n"
      ],
      "metadata": {
        "colab": {
          "base_uri": "https://localhost:8080/"
        },
        "id": "1Dhvk6gE5Khv",
        "outputId": "46ed10ab-54c5-4ab4-8acc-eb74e0f88a27"
      },
      "execution_count": null,
      "outputs": [
        {
          "output_type": "stream",
          "name": "stdout",
          "text": [
            "[1, 2, 4, 5]\n"
          ]
        }
      ]
    },
    {
      "cell_type": "code",
      "source": [
        "# 9-\n",
        "letters = ['a', 'b', 'c', 'd']\n",
        "second_element = letters[1]\n",
        "print(\"Second element:\", second_element)\n"
      ],
      "metadata": {
        "colab": {
          "base_uri": "https://localhost:8080/"
        },
        "id": "Ogkzku9o5SDg",
        "outputId": "07d1704f-e057-4e0f-a912-652c8f5e748b"
      },
      "execution_count": null,
      "outputs": [
        {
          "output_type": "stream",
          "name": "stdout",
          "text": [
            "Second element: b\n"
          ]
        }
      ]
    },
    {
      "cell_type": "code",
      "source": [
        "# 10-\n",
        "\n",
        "numbers = [10, 20, 30, 40, 50]\n",
        "reversed_list = numbers[::-1]\n",
        "print(\"Reversed list:\", reversed_list)\n"
      ],
      "metadata": {
        "colab": {
          "base_uri": "https://localhost:8080/"
        },
        "id": "YAiofqmJ5cco",
        "outputId": "cd0c7478-e074-49d1-f873-4d59df08554a"
      },
      "execution_count": null,
      "outputs": [
        {
          "output_type": "stream",
          "name": "stdout",
          "text": [
            "Reversed list: [50, 40, 30, 20, 10]\n"
          ]
        }
      ]
    },
    {
      "cell_type": "code",
      "source": [
        "# 11-\n",
        "\n",
        "my_tuple = (10, 20, 30)\n",
        "print(my_tuple)\n"
      ],
      "metadata": {
        "colab": {
          "base_uri": "https://localhost:8080/"
        },
        "id": "iHfvRDlB59Ji",
        "outputId": "24cd9a9e-c0ab-4e9d-fa6d-89d7011b30fe"
      },
      "execution_count": null,
      "outputs": [
        {
          "output_type": "stream",
          "name": "stdout",
          "text": [
            "(10, 20, 30)\n"
          ]
        }
      ]
    },
    {
      "cell_type": "code",
      "source": [
        "# 12-\n",
        "\n",
        "fruits = ('apple', 'banana', 'cherry')\n",
        "first_element = fruits[0]\n",
        "print(\"First element:\", first_element)\n"
      ],
      "metadata": {
        "colab": {
          "base_uri": "https://localhost:8080/"
        },
        "id": "PoESZjQ86GHR",
        "outputId": "ae825c91-1791-4b98-bdbd-dd0f16b22969"
      },
      "execution_count": null,
      "outputs": [
        {
          "output_type": "stream",
          "name": "stdout",
          "text": [
            "First element: apple\n"
          ]
        }
      ]
    },
    {
      "cell_type": "code",
      "source": [
        "# 13-\n",
        "\n",
        "numbers = (1, 2, 3, 2, 4, 2)\n",
        "count = numbers.count(2)\n",
        "print(\"Number of times 2 appears:\", count)\n"
      ],
      "metadata": {
        "colab": {
          "base_uri": "https://localhost:8080/"
        },
        "id": "y1dNbtqQ6YAo",
        "outputId": "cbfa0e6f-2b6b-4b20-a674-cfafe9d66ef2"
      },
      "execution_count": null,
      "outputs": [
        {
          "output_type": "stream",
          "name": "stdout",
          "text": [
            "Number of times 2 appears: 3\n"
          ]
        }
      ]
    },
    {
      "cell_type": "code",
      "source": [
        "# 14-\n",
        "\n",
        "animals = ('dog', 'cat', 'rabbit')\n",
        "index = animals.index('cat')\n",
        "print(\"Index of 'cat':\", index)\n"
      ],
      "metadata": {
        "colab": {
          "base_uri": "https://localhost:8080/"
        },
        "id": "hHAP6Rro6fbM",
        "outputId": "f71b92fd-2a2c-49f8-bbdb-7be395c35487"
      },
      "execution_count": null,
      "outputs": [
        {
          "output_type": "stream",
          "name": "stdout",
          "text": [
            "Index of 'cat': 1\n"
          ]
        }
      ]
    },
    {
      "cell_type": "code",
      "source": [
        "# 15-\n",
        "\n",
        "fruits = ('apple', 'orange', 'banana')\n",
        "is_present = 'banana' in fruits\n",
        "print(\"Is 'banana' in the tuple?\", is_present)\n"
      ],
      "metadata": {
        "colab": {
          "base_uri": "https://localhost:8080/"
        },
        "id": "wU1K8IHu6rBj",
        "outputId": "76f733af-1249-46ff-a306-5b161d435342"
      },
      "execution_count": null,
      "outputs": [
        {
          "output_type": "stream",
          "name": "stdout",
          "text": [
            "Is 'banana' in the tuple? True\n"
          ]
        }
      ]
    },
    {
      "cell_type": "code",
      "source": [
        "# 16-\n",
        "\n",
        "my_set = {1, 2, 3, 4, 5}\n",
        "print(my_set)\n"
      ],
      "metadata": {
        "colab": {
          "base_uri": "https://localhost:8080/"
        },
        "id": "nsCimwXP60Rt",
        "outputId": "ec92c3bf-283c-4513-dff3-8e2a640b0d10"
      },
      "execution_count": null,
      "outputs": [
        {
          "output_type": "stream",
          "name": "stdout",
          "text": [
            "{1, 2, 3, 4, 5}\n"
          ]
        }
      ]
    },
    {
      "cell_type": "code",
      "source": [
        "# 17-\n",
        "\n",
        "my_set = {1, 2, 3, 4}\n",
        "my_set.add(6)\n",
        "print(my_set)\n"
      ],
      "metadata": {
        "colab": {
          "base_uri": "https://localhost:8080/"
        },
        "id": "Xob1Yr9S66v2",
        "outputId": "52156d84-8cf7-45a9-b39e-e555a1f77267"
      },
      "execution_count": null,
      "outputs": [
        {
          "output_type": "stream",
          "name": "stdout",
          "text": [
            "{1, 2, 3, 4, 6}\n"
          ]
        }
      ]
    },
    {
      "cell_type": "code",
      "source": [
        "# 18-\n",
        "\n",
        "my_tuple = (10, 20, 30)\n",
        "print(my_tuple)\n"
      ],
      "metadata": {
        "colab": {
          "base_uri": "https://localhost:8080/"
        },
        "id": "rjnAy3Ml7FEd",
        "outputId": "90142317-353b-4ce3-ff87-dc9db6b11883"
      },
      "execution_count": null,
      "outputs": [
        {
          "output_type": "stream",
          "name": "stdout",
          "text": [
            "(10, 20, 30)\n"
          ]
        }
      ]
    },
    {
      "cell_type": "code",
      "source": [
        "# 19-\n",
        "\n",
        "fruits = ('apple', 'banana', 'cherry')\n",
        "first_element = fruits[0]\n",
        "print(\"First element:\", first_element)\n"
      ],
      "metadata": {
        "colab": {
          "base_uri": "https://localhost:8080/"
        },
        "id": "JD4r8mwY7NI5",
        "outputId": "bf7f3e67-4ae8-4fbc-a962-b9cbdc385f7e"
      },
      "execution_count": null,
      "outputs": [
        {
          "output_type": "stream",
          "name": "stdout",
          "text": [
            "First element: apple\n"
          ]
        }
      ]
    },
    {
      "cell_type": "code",
      "source": [
        "# 20-\n",
        "\n",
        "numbers = (1, 2, 3, 2, 4, 2)\n",
        "count = numbers.count(2)\n",
        "print(\"Number of times 2 appears:\", count)\n"
      ],
      "metadata": {
        "colab": {
          "base_uri": "https://localhost:8080/"
        },
        "id": "etq8bPxQ7Xx7",
        "outputId": "7913410d-f129-4a42-9b77-ea34de159ee0"
      },
      "execution_count": null,
      "outputs": [
        {
          "output_type": "stream",
          "name": "stdout",
          "text": [
            "Number of times 2 appears: 3\n"
          ]
        }
      ]
    },
    {
      "cell_type": "code",
      "source": [
        "# 21-\n",
        "\n",
        "animals = ('dog', 'cat', 'rabbit')\n",
        "index = animals.index('cat')\n",
        "print(\"Index of 'cat':\", index)\n"
      ],
      "metadata": {
        "colab": {
          "base_uri": "https://localhost:8080/"
        },
        "id": "kBQLX53O7fYF",
        "outputId": "daa78e7c-36d9-42dd-c006-c051eae6b4e6"
      },
      "execution_count": null,
      "outputs": [
        {
          "output_type": "stream",
          "name": "stdout",
          "text": [
            "Index of 'cat': 1\n"
          ]
        }
      ]
    },
    {
      "cell_type": "code",
      "source": [
        "# 22-\n",
        "\n",
        "fruits = ('apple', 'orange', 'banana')\n",
        "is_present = 'banana' in fruits\n",
        "print(\"Is 'banana' in the tuple?\", is_present)\n"
      ],
      "metadata": {
        "colab": {
          "base_uri": "https://localhost:8080/"
        },
        "id": "6E-Zbcmj7k6i",
        "outputId": "b217e3d1-da33-4c95-f81c-db0ad20e1a01"
      },
      "execution_count": null,
      "outputs": [
        {
          "output_type": "stream",
          "name": "stdout",
          "text": [
            "Is 'banana' in the tuple? True\n"
          ]
        }
      ]
    },
    {
      "cell_type": "code",
      "source": [
        "# 23-\n",
        "\n",
        "my_set = {1, 2, 3, 4, 5}\n",
        "print(my_set)\n"
      ],
      "metadata": {
        "colab": {
          "base_uri": "https://localhost:8080/"
        },
        "id": "zSjEAF4-7zG3",
        "outputId": "177dfefe-13b7-4685-ab35-178b15b8f037"
      },
      "execution_count": null,
      "outputs": [
        {
          "output_type": "stream",
          "name": "stdout",
          "text": [
            "{1, 2, 3, 4, 5}\n"
          ]
        }
      ]
    },
    {
      "cell_type": "code",
      "source": [
        "# 24-\n",
        "\n",
        "my_set = {1, 2, 3, 4}\n",
        "my_set.add(6)\n",
        "print(my_set)\n"
      ],
      "metadata": {
        "colab": {
          "base_uri": "https://localhost:8080/"
        },
        "id": "dIIJQJlj75bA",
        "outputId": "21f3f504-b5ad-4ef1-f483-261e7125134b"
      },
      "execution_count": null,
      "outputs": [
        {
          "output_type": "stream",
          "name": "stdout",
          "text": [
            "{1, 2, 3, 4, 6}\n"
          ]
        }
      ]
    }
  ]
}